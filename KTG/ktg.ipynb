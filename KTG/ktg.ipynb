{
 "cells": [
  {
   "cell_type": "code",
   "execution_count": 47,
   "metadata": {},
   "outputs": [],
   "source": [
    "import numpy as np\n",
    "import matplotlib.pyplot as plt\n",
    "plt.style.use([\"science\", \"notebook\", \"grid\"])\n",
    "import itertools"
   ]
  },
  {
   "cell_type": "code",
   "execution_count": 63,
   "metadata": {},
   "outputs": [],
   "source": [
    "class GasMolecules:\n",
    "    def __init__(self, boundary:tuple, n_particles:int, v_threshold, radius = float, masses=np.ndarray,\n",
    "                 dt=float) -> None:\n",
    "        self.boundary = boundary\n",
    "        self.v_threshold = v_threshold\n",
    "        self.n_particles = n_particles\n",
    "        self.x = np.random.choice([boundary[0], boundary[1]], self.n_particles) + \\\n",
    "                    np.random.uniform(0, 1, self.n_particles) # x position\n",
    "        self.y = np.random.uniform(boundary[0], boundary[1], self.n_particles) # y position\n",
    "        self.r = np.array([self.x, self.y]).T # position\n",
    "        self.color = np.where(self.x > 0, \"red\", \"blue\")\n",
    "        self.radius = np.full(self.n_particles, radius)\n",
    "        self.v = np.random.uniform(-self.v_threshold, self.v_threshold, (self.n_particles, 2)) # velocity\n",
    "        self.vx = self.v[:, 0] # x velocity\n",
    "        self.vy = self.v[:, 1] # y velocity\n",
    "        self.ids = np.arange(self.n_particles)\n",
    "        self.masses = masses\n",
    "        self.t = 0\n",
    "        self.dt = dt\n",
    "\n",
    "\n",
    "    def IsColliding(self, r1: np.ndarray, r2:np.ndarray, rd1:float, rd2:float) -> bool:\n",
    "        \"\"\" Check if two circles are colliding  \n",
    "        Args:\n",
    "            r1 (np.ndarray): position of the first circle\n",
    "            r2 (np.ndarray): position of the second circle\n",
    "            rd1 (float): radius of the first circle\n",
    "            rd2 (float): radius of the second circle\n",
    "        Returns:\n",
    "            bool: True if the circles are colliding\"\"\"\n",
    "        return np.linalg.norm(r1 - r2) < (rd1 + rd2)\n",
    "    \n",
    "    def collide(self) -> None:\n",
    "        \"\"\" Change velocity of colliding particles according to elastic collision \n",
    "        (momentum conservation and conservation of energy))\"\"\"\n",
    "\n",
    "        # 3d array of all distances for all particle pairs\n",
    "        r_ij = itertools.combinations(self.r, 2)\n",
    "\n",
    "        # 2d array of all masses for all particle pairs\n",
    "        m_ij = np.array(list(itertools.combinations(self.masses, 2))) \n",
    "\n",
    "        # 2d array of radii for all particle pairs\n",
    "        rds_ij = itertools.combinations(self.radius, 2)\n",
    "\n",
    "        # 2d array of all ids of particle pairs\n",
    "        ids_ij = itertools.combinations(self.ids, 2)\n",
    "\n",
    "        # 2d array of all ids of colliding particles\n",
    "        ids_colliding = []\n",
    "        for (r1, r2), (rad1, rad2), (id1, id2) in zip(r_ij, rds_ij, ids_ij):\n",
    "            if self.IsColliding(r1, r2, rad1, rad2):\n",
    "                ids_colliding.append((id1, id2))\n",
    "        \n",
    "        if len(ids_colliding) == 0:\n",
    "            return None\n",
    "        ids_colliding = np.array(ids_colliding) # 2d array of all ids of colliding particles\n",
    "\n",
    "        # Old velocities of colliding particles\n",
    "        v1_old = self.v[ids_colliding[:, 0]]\n",
    "        v2_old = self.v[ids_colliding[:, 1]]\n",
    "\n",
    "        # Masses of colliding particles\n",
    "        m1 = m_ij[ids_colliding[:, 0]]\n",
    "        m2 = m_ij[ids_colliding[:, 1]]\n",
    "\n",
    "        # Position of the colliding particles\n",
    "        r1 = self.r[ids_colliding[:, 0]]\n",
    "        r2 = self.r[ids_colliding[:, 1]]\n",
    "\n",
    "        # Change velocity of colliding particles, '@' is matrix multiplication\n",
    "        self.v[ids_colliding[:, 0]] -= (2*m2/(m1 + m2)) * \\\n",
    "                                              (np.diag((v1_old - v2_old) @ \\\n",
    "                                                        (r1 - r2).T) / np.sum((r1 - r2)**2, axis=1))\\\n",
    "                                        .reshape(-1, 1) * (r1 - r2)\n",
    "        self.v[ids_colliding[:, 1]] -= (2*m1/(m1 + m2)) * \\\n",
    "                                              (np.diag((v2_old - v1_old) @ \\\n",
    "                                                        (r2 - r1).T) / np.sum((r1 - r2)**2, axis=1))\\\n",
    "                                        .reshape(-1, 1) * (r2 - r1)\n",
    "        \n",
    "    def check_boundary(self) -> None:\n",
    "        \"\"\" Change velocity of particles that hit the boundary \"\"\"\n",
    "        self.vx[(self.x >= self.boundary) | (self.x <= -self.boundary)] *= -1 # change x velocity of particles that hit the boundary\n",
    "        self.vy[(self.y >= self.boundary) | (self.y <= -self.boundary)] *= -1 # change y velocity of particles that hit the boundary\n",
    "\n",
    "    def update(self) -> None:\n",
    "        \"\"\" Update position and velocity of particles \"\"\"\n",
    "        # self.check_boundary() # check if particles hit the boundary\n",
    "        self.collide() # check if particles collide\n",
    "        self.r += self.v * self.dt # update position\n",
    "        self.t += self.dt  # update time\n",
    "\n",
    "    def __str__(self) -> str:\n",
    "        return f\"\"\"\n",
    "        Number of particles: {self.n_particles},\n",
    "        Radius of particles: {np.unique(self.radius)},\n",
    "        Threshold velocity: {self.v_threshold},\n",
    "        Time step: {self.dt},\n",
    "        Masses: {np.unique(self.masses)}\n",
    "        \"\"\"\n",
    "    \n"
   ]
  },
  {
   "cell_type": "code",
   "execution_count": 64,
   "metadata": {},
   "outputs": [
    {
     "name": "stdout",
     "output_type": "stream",
     "text": [
      "\n",
      "        Number of particles: 1000,\n",
      "        Radius of particles: [0.5],\n",
      "        Threshold velocity: 0.1,\n",
      "        Time step: 0.01,\n",
      "        Masses: [1]\n",
      "        \n"
     ]
    }
   ],
   "source": [
    "# Constants\n",
    "n_particles = 1000\n",
    "boundary = (-10, 10)\n",
    "radius = 0.5\n",
    "v_threshold = 0.1\n",
    "masses = np.random.choice([1], n_particles)\n",
    "\n",
    "# Initialize\n",
    "gas = GasMolecules(boundary=boundary, n_particles=n_particles, v_threshold=v_threshold, radius=radius, masses=masses, dt=0.01)\n",
    "\n",
    "# Plot\n",
    "# plt.scatter(gas.x, gas.y, c=gas.color, s=gas.radius * 6*np.pi)\n",
    "print(gas)"
   ]
  },
  {
   "cell_type": "code",
   "execution_count": 65,
   "metadata": {},
   "outputs": [],
   "source": [
    "gas.update()\n",
    "plt.plot(gas.x, gas.y, \"o\", c=gas.color, ms=gas.radius * 6*np.pi)"
   ]
  },
  {
   "cell_type": "code",
   "execution_count": null,
   "metadata": {},
   "outputs": [],
   "source": []
  }
 ],
 "metadata": {
  "kernelspec": {
   "display_name": "Python 3",
   "language": "python",
   "name": "python3"
  },
  "language_info": {
   "codemirror_mode": {
    "name": "ipython",
    "version": 3
   },
   "file_extension": ".py",
   "mimetype": "text/x-python",
   "name": "python",
   "nbconvert_exporter": "python",
   "pygments_lexer": "ipython3",
   "version": "3.11.1"
  },
  "orig_nbformat": 4,
  "vscode": {
   "interpreter": {
    "hash": "aee8b7b246df8f9039afb4144a1f6fd8d2ca17a180786b69acc140d282b71a49"
   }
  }
 },
 "nbformat": 4,
 "nbformat_minor": 2
}
